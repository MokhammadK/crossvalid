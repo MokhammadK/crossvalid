{
 "cells": [
  {
   "cell_type": "code",
   "execution_count": 22,
   "id": "0585e707",
   "metadata": {},
   "outputs": [],
   "source": [
    "import pandas as pd\n",
    "from sklearn.model_selection import cross_val_score\n",
    "from sklearn.linear_model import LinearRegression\n",
    "\n",
    "scores = pd.read_csv(\"C:\\\\Users\\\\Bruger\\\\Downloads\\\\student_scores.csv\")\n"
   ]
  },
  {
   "cell_type": "code",
   "execution_count": 24,
   "id": "9327b37e",
   "metadata": {},
   "outputs": [],
   "source": [
    "X = student_scores[['Hours']]\n",
    "y = student_scores['Scores']\n",
    "\n",
    "model = LinearRegression()"
   ]
  },
  {
   "cell_type": "code",
   "execution_count": 25,
   "id": "eb96af2a",
   "metadata": {},
   "outputs": [
    {
     "name": "stdout",
     "output_type": "stream",
     "text": [
      "Fold 1: 0.7862642591046427\n",
      "Fold 2: 0.9789192275596916\n",
      "Fold 3: 0.9318246738821696\n",
      "Fold 4: 0.9660483127468756\n",
      "Fold 5: 0.9273291976521457\n",
      "Mean Accuracy: 0.9180771341891051\n"
     ]
    }
   ],
   "source": [
    "scores = cross_val_score(model, X, y, cv=5)\n",
    "\n",
    "for fold, score in enumerate(scores):\n",
    "    print(f\"Fold {fold+1}: {score}\")\n",
    "\n",
    "print(\"Mean Accuracy:\", scores.mean())"
   ]
  },
  {
   "cell_type": "code",
   "execution_count": 26,
   "id": "8b4b9808",
   "metadata": {},
   "outputs": [],
   "source": [
    "# Ці результати вказують на те, що модель лінійної регресії має добру точність при прогнозуванні оцінок на основі годин вивчення студентами."
   ]
  },
  {
   "cell_type": "code",
   "execution_count": 27,
   "id": "a7f0e702",
   "metadata": {},
   "outputs": [],
   "source": [
    "# Обгрунтування цього методу:\n",
    "# Кількість доступних спостережень. 5-кратна крос-валідація дозволяє розділити дані на 5 фолдів, що приблизно робить кожен фолд містити 5 спостережень. \n",
    "#  Результати 5-кратної крос-валідації показують, що середня точність моделі становить 0.918. Це вказує на те, що модель має прийнятну загальну точність на різних фолдах\n",
    "#  5-кратна крос-валідація є менш обчислювально витратним методом порівняно з більшими значеннями крос-валідації"
   ]
  },
  {
   "cell_type": "code",
   "execution_count": 38,
   "id": "96100419",
   "metadata": {},
   "outputs": [],
   "source": [
    "from sklearn.model_selection import train_test_split\n",
    "from sklearn.linear_model import LinearRegression\n",
    "import numpy as np\n",
    "\n",
    "petrol = pd.read_csv(\"C:\\\\Users\\\\Bruger\\\\Downloads\\\\petrol_consumption.csv\") \n",
    "\n",
    "\n",
    "X = petrol[['Petrol_tax', 'Average_income', 'Paved_Highways', 'Population_Driver_licence(%)']]\n",
    "y = petrol['Petrol_Consumption']"
   ]
  },
  {
   "cell_type": "code",
   "execution_count": 39,
   "id": "307eb14d",
   "metadata": {},
   "outputs": [
    {
     "name": "stdout",
     "output_type": "stream",
     "text": [
      "Iteration 1: 0.47496639257993467\n",
      "Iteration 2: 0.6994583112572839\n",
      "Iteration 3: 0.7887301498413624\n",
      "Iteration 4: 0.7668163246331005\n",
      "Iteration 5: 0.7715588274495375\n",
      "Iteration 6: 0.7881349781895713\n",
      "Iteration 7: 0.3926921655984521\n",
      "Iteration 8: 0.4867663647345203\n",
      "Iteration 9: 0.02414548837042263\n",
      "Iteration 10: 0.5523072392528261\n",
      "Mean Accuracy: 0.5745576241907011\n"
     ]
    }
   ],
   "source": [
    "num_iterations = 10\n",
    "\n",
    "# Кількість даних, що потрапляють у тестовий набір\n",
    "test_size = 0.2\n",
    "\n",
    "# Ініціалізація списку для збереження оцінок точності\n",
    "accuracies = []\n",
    "\n",
    "# Повторення процедури крос-валідації num_iterations раз\n",
    "for _ in range(num_iterations):\n",
    "    # Розбиття даних на навчальний та тестовий набори\n",
    "    X_train, X_test, y_train, y_test = train_test_split(X, y, test_size=test_size)\n",
    "    \n",
    "    # Створення та навчання моделі\n",
    "    model = LinearRegression()\n",
    "    model.fit(X_train, y_train)\n",
    "    \n",
    "    # Оцінка точності моделі на тестовому наборі\n",
    "    accuracy = model.score(X_test, y_test)\n",
    "    accuracies.append(accuracy)\n",
    "\n",
    "# Виведення результатів\n",
    "for i, accuracy in enumerate(accuracies):\n",
    "    print(f\"Iteration {i+1}: {accuracy}\")\n",
    "\n",
    "# Середня точність\n",
    "mean_accuracy = np.mean(accuracies)\n",
    "print(f\"Mean Accuracy: {mean_accuracy}\")"
   ]
  },
  {
   "cell_type": "code",
   "execution_count": 42,
   "id": "9a7cf0b1",
   "metadata": {},
   "outputs": [],
   "source": [
    "# Цей метод дозволяє отримати усереднені результати на основі кількох випадкових розбиттів та оцінити стабільність та робастність моделі шляхом випадкового вибору тренувальних та тестових наборів даних. "
   ]
  }
 ],
 "metadata": {
  "kernelspec": {
   "display_name": "Python 3 (ipykernel)",
   "language": "python",
   "name": "python3"
  },
  "language_info": {
   "codemirror_mode": {
    "name": "ipython",
    "version": 3
   },
   "file_extension": ".py",
   "mimetype": "text/x-python",
   "name": "python",
   "nbconvert_exporter": "python",
   "pygments_lexer": "ipython3",
   "version": "3.9.13"
  }
 },
 "nbformat": 4,
 "nbformat_minor": 5
}
